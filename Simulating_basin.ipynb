{
  "cells": [
    {
      "cell_type": "code",
      "execution_count": null,
      "metadata": {
        "id": "DgWM3BHfpU8u",
        "outputId": "5f5510f9-7b6f-40db-c6b6-dad2ff363e08"
      },
      "outputs": [
        {
          "name": "stdout",
          "output_type": "stream",
          "text": [
            "Requirement already satisfied: keras in c:\\users\\home\\anaconda3\\lib\\site-packages (2.14.0)\n"
          ]
        }
      ],
      "source": [
        "!pip install keras"
      ]
    },
    {
      "cell_type": "code",
      "execution_count": 1,
      "metadata": {
        "id": "RPm3rJm_UVsB"
      },
      "outputs": [],
      "source": [
        "#!pip install tensorflow"
      ]
    },
    {
      "cell_type": "code",
      "execution_count": 2,
      "metadata": {
        "id": "21bGV9yVUVsC"
      },
      "outputs": [],
      "source": [
        "# LSTM for debits journaliers\n",
        "import numpy\n",
        "import matplotlib.pyplot as plt\n",
        "import pandas as pd\n",
        "from pandas import read_csv\n",
        "import math\n",
        "from keras.models import Sequential\n",
        "from keras.layers import Dense\n",
        "from keras.layers import LSTM\n",
        "from sklearn.preprocessing import MinMaxScaler\n",
        "from sklearn.metrics import mean_squared_error"
      ]
    },
    {
      "cell_type": "code",
      "execution_count": 3,
      "metadata": {
        "id": "fvk_Mun6pYDL"
      },
      "outputs": [],
      "source": [
        "# convert an array of values into a dataset matrix\n",
        "def create_dataset(dataset, look_back=1):\n",
        "  dataX, dataY = [], []\n",
        "  for i in range(len(dataset)-look_back-1):\n",
        "    a = dataset[i:(i+look_back), 0]\n",
        "    dataX.append(a)\n",
        "    dataY.append(dataset[i + look_back, 0])\n",
        "  return numpy.array(dataX), numpy.array(dataY)"
      ]
    },
    {
      "cell_type": "code",
      "execution_count": 6,
      "metadata": {
        "colab": {
          "base_uri": "https://localhost:8080/"
        },
        "id": "LNN4P7zkpsac",
        "outputId": "9d0288e2-99d7-44c1-c757-a5bc3c85847a"
      },
      "outputs": [
        {
          "output_type": "execute_result",
          "data": {
            "text/plain": [
              "array([[ 9.56 ],\n",
              "       [ 9.433],\n",
              "       [ 9.433],\n",
              "       ...,\n",
              "       [15.74 ],\n",
              "       [15.34 ],\n",
              "       [15.07 ]], dtype=float32)"
            ]
          },
          "metadata": {},
          "execution_count": 6
        }
      ],
      "source": [
        "# fix random seed for reproducibility\n",
        "numpy.random.seed(7)\n",
        "# load the dataset\n",
        "dataframe = pd.read_excel('calagesimulation.xlsx', usecols=[0])\n",
        "dataset = dataframe.values\n",
        "dataset = dataset.astype('float32')\n",
        "dataset"
      ]
    },
    {
      "cell_type": "code",
      "execution_count": 9,
      "metadata": {
        "id": "aqvW0eas_x3e"
      },
      "outputs": [],
      "source": [
        "# normalize the dataset\n",
        "scaler = MinMaxScaler(feature_range=(0, 1))\n",
        "dataset = scaler.fit_transform(dataset)"
      ]
    },
    {
      "cell_type": "code",
      "execution_count": 14,
      "metadata": {
        "id": "MX3qRdf__zSP"
      },
      "outputs": [],
      "source": [
        "# split into train and test sets\n",
        "train_size = int(len(dataset) *(8/9))\n",
        "test_size = len(dataset) - train_size\n",
        "train, test = dataset[0:train_size,:], dataset[train_size:len(dataset),:]\n",
        "# reshape into X=t and Y=t+1\n",
        "look_back = 1\n",
        "trainX, trainY = create_dataset(train, look_back)\n",
        "testX, testY = create_dataset(test, look_back)\n",
        "# reshape input to be [samples, time steps, features]\n",
        "trainX = numpy.reshape(trainX, (trainX.shape[0], 1, trainX.shape[1]))\n",
        "testX = numpy.reshape(testX, (testX.shape[0], 1, testX.shape[1]))"
      ]
    },
    {
      "cell_type": "code",
      "source": [
        "# create and fit the LSTM network\n",
        "model = Sequential()\n",
        "model.add(LSTM(20, input_shape=(1, look_back)))\n",
        "model.add(Dense(1))\n",
        "model.compile(loss='mean_squared_error', optimizer='adam')\n",
        "model.fit(trainX, trainY, epochs=100, batch_size=1, verbose=2)"
      ],
      "metadata": {
        "colab": {
          "base_uri": "https://localhost:8080/"
        },
        "id": "KJ5q4GnWVWSQ",
        "outputId": "d372cf68-50b7-4cde-bd47-effbcee70a76"
      },
      "execution_count": 11,
      "outputs": [
        {
          "output_type": "stream",
          "name": "stdout",
          "text": [
            "Epoch 1/100\n",
            "2918/2918 - 10s - loss: 0.0116 - 10s/epoch - 3ms/step\n",
            "Epoch 2/100\n",
            "2918/2918 - 10s - loss: 2.3780e-04 - 10s/epoch - 4ms/step\n",
            "Epoch 3/100\n",
            "2918/2918 - 10s - loss: 2.3039e-04 - 10s/epoch - 3ms/step\n",
            "Epoch 4/100\n",
            "2918/2918 - 10s - loss: 2.2221e-04 - 10s/epoch - 4ms/step\n",
            "Epoch 5/100\n",
            "2918/2918 - 7s - loss: 2.2424e-04 - 7s/epoch - 2ms/step\n",
            "Epoch 6/100\n",
            "2918/2918 - 8s - loss: 2.2744e-04 - 8s/epoch - 3ms/step\n",
            "Epoch 7/100\n",
            "2918/2918 - 7s - loss: 2.2211e-04 - 7s/epoch - 2ms/step\n",
            "Epoch 8/100\n",
            "2918/2918 - 8s - loss: 2.2469e-04 - 8s/epoch - 3ms/step\n",
            "Epoch 9/100\n",
            "2918/2918 - 8s - loss: 2.2411e-04 - 8s/epoch - 3ms/step\n",
            "Epoch 10/100\n",
            "2918/2918 - 7s - loss: 2.2147e-04 - 7s/epoch - 2ms/step\n",
            "Epoch 11/100\n",
            "2918/2918 - 8s - loss: 2.3046e-04 - 8s/epoch - 3ms/step\n",
            "Epoch 12/100\n",
            "2918/2918 - 8s - loss: 2.2560e-04 - 8s/epoch - 3ms/step\n",
            "Epoch 13/100\n",
            "2918/2918 - 8s - loss: 2.2533e-04 - 8s/epoch - 3ms/step\n",
            "Epoch 14/100\n",
            "2918/2918 - 8s - loss: 2.1589e-04 - 8s/epoch - 3ms/step\n",
            "Epoch 15/100\n",
            "2918/2918 - 7s - loss: 2.1466e-04 - 7s/epoch - 2ms/step\n",
            "Epoch 16/100\n",
            "2918/2918 - 8s - loss: 2.2197e-04 - 8s/epoch - 3ms/step\n",
            "Epoch 17/100\n",
            "2918/2918 - 7s - loss: 2.1922e-04 - 7s/epoch - 2ms/step\n",
            "Epoch 18/100\n",
            "2918/2918 - 8s - loss: 2.2531e-04 - 8s/epoch - 3ms/step\n",
            "Epoch 19/100\n",
            "2918/2918 - 8s - loss: 2.1617e-04 - 8s/epoch - 3ms/step\n",
            "Epoch 20/100\n",
            "2918/2918 - 7s - loss: 2.1934e-04 - 7s/epoch - 2ms/step\n",
            "Epoch 21/100\n",
            "2918/2918 - 8s - loss: 2.1922e-04 - 8s/epoch - 3ms/step\n",
            "Epoch 22/100\n",
            "2918/2918 - 8s - loss: 2.1660e-04 - 8s/epoch - 3ms/step\n",
            "Epoch 23/100\n",
            "2918/2918 - 7s - loss: 2.2302e-04 - 7s/epoch - 2ms/step\n",
            "Epoch 24/100\n",
            "2918/2918 - 8s - loss: 2.2422e-04 - 8s/epoch - 3ms/step\n",
            "Epoch 25/100\n",
            "2918/2918 - 7s - loss: 2.2240e-04 - 7s/epoch - 2ms/step\n",
            "Epoch 26/100\n",
            "2918/2918 - 8s - loss: 2.2222e-04 - 8s/epoch - 3ms/step\n",
            "Epoch 27/100\n",
            "2918/2918 - 8s - loss: 2.2279e-04 - 8s/epoch - 3ms/step\n",
            "Epoch 28/100\n",
            "2918/2918 - 7s - loss: 2.1918e-04 - 7s/epoch - 2ms/step\n",
            "Epoch 29/100\n",
            "2918/2918 - 8s - loss: 2.1191e-04 - 8s/epoch - 3ms/step\n",
            "Epoch 30/100\n",
            "2918/2918 - 7s - loss: 2.2014e-04 - 7s/epoch - 2ms/step\n",
            "Epoch 31/100\n",
            "2918/2918 - 8s - loss: 2.1929e-04 - 8s/epoch - 3ms/step\n",
            "Epoch 32/100\n",
            "2918/2918 - 8s - loss: 2.2098e-04 - 8s/epoch - 3ms/step\n",
            "Epoch 33/100\n",
            "2918/2918 - 7s - loss: 2.2112e-04 - 7s/epoch - 2ms/step\n",
            "Epoch 34/100\n",
            "2918/2918 - 8s - loss: 2.1719e-04 - 8s/epoch - 3ms/step\n",
            "Epoch 35/100\n",
            "2918/2918 - 7s - loss: 2.2343e-04 - 7s/epoch - 3ms/step\n",
            "Epoch 36/100\n",
            "2918/2918 - 8s - loss: 2.1901e-04 - 8s/epoch - 3ms/step\n",
            "Epoch 37/100\n",
            "2918/2918 - 8s - loss: 2.1745e-04 - 8s/epoch - 3ms/step\n",
            "Epoch 38/100\n",
            "2918/2918 - 7s - loss: 2.1739e-04 - 7s/epoch - 2ms/step\n",
            "Epoch 39/100\n",
            "2918/2918 - 8s - loss: 2.1641e-04 - 8s/epoch - 3ms/step\n",
            "Epoch 40/100\n",
            "2918/2918 - 9s - loss: 2.1484e-04 - 9s/epoch - 3ms/step\n",
            "Epoch 41/100\n",
            "2918/2918 - 7s - loss: 2.1708e-04 - 7s/epoch - 2ms/step\n",
            "Epoch 42/100\n",
            "2918/2918 - 8s - loss: 2.1970e-04 - 8s/epoch - 3ms/step\n",
            "Epoch 43/100\n",
            "2918/2918 - 7s - loss: 2.1936e-04 - 7s/epoch - 2ms/step\n",
            "Epoch 44/100\n",
            "2918/2918 - 8s - loss: 2.1333e-04 - 8s/epoch - 3ms/step\n",
            "Epoch 45/100\n",
            "2918/2918 - 8s - loss: 2.1801e-04 - 8s/epoch - 3ms/step\n",
            "Epoch 46/100\n",
            "2918/2918 - 7s - loss: 2.2002e-04 - 7s/epoch - 2ms/step\n",
            "Epoch 47/100\n",
            "2918/2918 - 8s - loss: 2.1735e-04 - 8s/epoch - 3ms/step\n",
            "Epoch 48/100\n",
            "2918/2918 - 7s - loss: 2.1924e-04 - 7s/epoch - 2ms/step\n",
            "Epoch 49/100\n",
            "2918/2918 - 8s - loss: 2.1120e-04 - 8s/epoch - 3ms/step\n",
            "Epoch 50/100\n",
            "2918/2918 - 8s - loss: 2.2165e-04 - 8s/epoch - 3ms/step\n",
            "Epoch 51/100\n",
            "2918/2918 - 7s - loss: 2.1925e-04 - 7s/epoch - 2ms/step\n",
            "Epoch 52/100\n",
            "2918/2918 - 7s - loss: 2.1649e-04 - 7s/epoch - 3ms/step\n",
            "Epoch 53/100\n",
            "2918/2918 - 7s - loss: 2.1638e-04 - 7s/epoch - 2ms/step\n",
            "Epoch 54/100\n",
            "2918/2918 - 8s - loss: 2.2089e-04 - 8s/epoch - 3ms/step\n",
            "Epoch 55/100\n",
            "2918/2918 - 7s - loss: 2.1807e-04 - 7s/epoch - 2ms/step\n",
            "Epoch 56/100\n",
            "2918/2918 - 8s - loss: 2.1815e-04 - 8s/epoch - 3ms/step\n",
            "Epoch 57/100\n",
            "2918/2918 - 8s - loss: 2.2305e-04 - 8s/epoch - 3ms/step\n",
            "Epoch 58/100\n",
            "2918/2918 - 7s - loss: 2.1531e-04 - 7s/epoch - 2ms/step\n",
            "Epoch 59/100\n",
            "2918/2918 - 8s - loss: 2.1430e-04 - 8s/epoch - 3ms/step\n",
            "Epoch 60/100\n",
            "2918/2918 - 7s - loss: 2.1511e-04 - 7s/epoch - 3ms/step\n",
            "Epoch 61/100\n",
            "2918/2918 - 8s - loss: 2.1555e-04 - 8s/epoch - 3ms/step\n",
            "Epoch 62/100\n",
            "2918/2918 - 9s - loss: 2.1910e-04 - 9s/epoch - 3ms/step\n",
            "Epoch 63/100\n",
            "2918/2918 - 8s - loss: 2.1060e-04 - 8s/epoch - 3ms/step\n",
            "Epoch 64/100\n",
            "2918/2918 - 8s - loss: 2.2131e-04 - 8s/epoch - 3ms/step\n",
            "Epoch 65/100\n",
            "2918/2918 - 8s - loss: 2.1550e-04 - 8s/epoch - 3ms/step\n",
            "Epoch 66/100\n",
            "2918/2918 - 7s - loss: 2.1660e-04 - 7s/epoch - 2ms/step\n",
            "Epoch 67/100\n",
            "2918/2918 - 8s - loss: 2.1560e-04 - 8s/epoch - 3ms/step\n",
            "Epoch 68/100\n",
            "2918/2918 - 8s - loss: 2.1571e-04 - 8s/epoch - 3ms/step\n",
            "Epoch 69/100\n",
            "2918/2918 - 7s - loss: 2.2333e-04 - 7s/epoch - 2ms/step\n",
            "Epoch 70/100\n",
            "2918/2918 - 8s - loss: 2.1502e-04 - 8s/epoch - 3ms/step\n",
            "Epoch 71/100\n",
            "2918/2918 - 7s - loss: 2.1649e-04 - 7s/epoch - 2ms/step\n",
            "Epoch 72/100\n",
            "2918/2918 - 8s - loss: 2.2189e-04 - 8s/epoch - 3ms/step\n",
            "Epoch 73/100\n",
            "2918/2918 - 7s - loss: 2.1665e-04 - 7s/epoch - 2ms/step\n",
            "Epoch 74/100\n",
            "2918/2918 - 7s - loss: 2.1566e-04 - 7s/epoch - 2ms/step\n",
            "Epoch 75/100\n",
            "2918/2918 - 8s - loss: 2.1567e-04 - 8s/epoch - 3ms/step\n",
            "Epoch 76/100\n",
            "2918/2918 - 6s - loss: 2.1504e-04 - 6s/epoch - 2ms/step\n",
            "Epoch 77/100\n",
            "2918/2918 - 8s - loss: 2.1407e-04 - 8s/epoch - 3ms/step\n",
            "Epoch 78/100\n",
            "2918/2918 - 7s - loss: 2.1270e-04 - 7s/epoch - 2ms/step\n",
            "Epoch 79/100\n",
            "2918/2918 - 8s - loss: 2.1569e-04 - 8s/epoch - 3ms/step\n",
            "Epoch 80/100\n",
            "2918/2918 - 8s - loss: 2.1891e-04 - 8s/epoch - 3ms/step\n",
            "Epoch 81/100\n",
            "2918/2918 - 7s - loss: 2.1828e-04 - 7s/epoch - 2ms/step\n",
            "Epoch 82/100\n",
            "2918/2918 - 8s - loss: 2.1294e-04 - 8s/epoch - 3ms/step\n",
            "Epoch 83/100\n",
            "2918/2918 - 7s - loss: 2.1172e-04 - 7s/epoch - 2ms/step\n",
            "Epoch 84/100\n",
            "2918/2918 - 8s - loss: 2.1076e-04 - 8s/epoch - 3ms/step\n",
            "Epoch 85/100\n",
            "2918/2918 - 7s - loss: 2.1660e-04 - 7s/epoch - 3ms/step\n",
            "Epoch 86/100\n",
            "2918/2918 - 7s - loss: 2.1715e-04 - 7s/epoch - 3ms/step\n",
            "Epoch 87/100\n",
            "2918/2918 - 8s - loss: 2.1880e-04 - 8s/epoch - 3ms/step\n",
            "Epoch 88/100\n",
            "2918/2918 - 7s - loss: 2.1209e-04 - 7s/epoch - 2ms/step\n",
            "Epoch 89/100\n",
            "2918/2918 - 8s - loss: 2.1589e-04 - 8s/epoch - 3ms/step\n",
            "Epoch 90/100\n",
            "2918/2918 - 7s - loss: 2.1728e-04 - 7s/epoch - 3ms/step\n",
            "Epoch 91/100\n",
            "2918/2918 - 8s - loss: 2.1496e-04 - 8s/epoch - 3ms/step\n",
            "Epoch 92/100\n",
            "2918/2918 - 8s - loss: 2.1454e-04 - 8s/epoch - 3ms/step\n",
            "Epoch 93/100\n",
            "2918/2918 - 7s - loss: 2.1518e-04 - 7s/epoch - 2ms/step\n",
            "Epoch 94/100\n",
            "2918/2918 - 8s - loss: 2.0623e-04 - 8s/epoch - 3ms/step\n",
            "Epoch 95/100\n",
            "2918/2918 - 7s - loss: 2.1056e-04 - 7s/epoch - 3ms/step\n",
            "Epoch 96/100\n",
            "2918/2918 - 7s - loss: 2.1530e-04 - 7s/epoch - 2ms/step\n",
            "Epoch 97/100\n",
            "2918/2918 - 8s - loss: 2.1826e-04 - 8s/epoch - 3ms/step\n",
            "Epoch 98/100\n",
            "2918/2918 - 7s - loss: 2.0993e-04 - 7s/epoch - 2ms/step\n",
            "Epoch 99/100\n",
            "2918/2918 - 8s - loss: 2.0884e-04 - 8s/epoch - 3ms/step\n",
            "Epoch 100/100\n",
            "2918/2918 - 7s - loss: 2.1004e-04 - 7s/epoch - 3ms/step\n"
          ]
        },
        {
          "output_type": "execute_result",
          "data": {
            "text/plain": [
              "<keras.src.callbacks.History at 0x7f22f7fef040>"
            ]
          },
          "metadata": {},
          "execution_count": 11
        }
      ]
    },
    {
      "cell_type": "code",
      "source": [
        "# make predictions\n",
        "trainPredict = model.predict(trainX)\n",
        "testPredict = model.predict(testX)\n",
        "# invert predictions\n",
        "trainPredict = scaler.inverse_transform(trainPredict)\n",
        "trainY = scaler.inverse_transform([trainY])\n",
        "testPredict = scaler.inverse_transform(testPredict)\n",
        "testY = scaler.inverse_transform([testY])"
      ],
      "metadata": {
        "colab": {
          "base_uri": "https://localhost:8080/"
        },
        "id": "wgK9F93hVeC_",
        "outputId": "3b39c115-cf47-4b75-ea90-737b174dff0c"
      },
      "execution_count": 21,
      "outputs": [
        {
          "output_type": "stream",
          "name": "stdout",
          "text": [
            "92/92 [==============================] - 0s 2ms/step\n",
            "12/12 [==============================] - 0s 2ms/step\n"
          ]
        }
      ]
    },
    {
      "cell_type": "code",
      "source": [
        "# calculate root mean squared error\n",
        "trainScore = math.sqrt(mean_squared_error(trainY[0], trainPredict[:,0]))\n",
        "print('Train Score: %.3f RMSE' % (trainScore))\n",
        "testScore = math.sqrt(mean_squared_error(testY[0], testPredict[:,0]))\n",
        "print('Test Score: %.3f RMSE' % (testScore))"
      ],
      "metadata": {
        "colab": {
          "base_uri": "https://localhost:8080/"
        },
        "id": "85WKDjG5VhwP",
        "outputId": "3704e1a0-50a7-409e-fbdc-6999ae708ebc"
      },
      "execution_count": 22,
      "outputs": [
        {
          "output_type": "stream",
          "name": "stdout",
          "text": [
            "Train Score: 0.014 RMSE\n",
            "Test Score: 0.013 RMSE\n"
          ]
        }
      ]
    },
    {
      "cell_type": "code",
      "source": [
        "# shift train predictions for plotting\n",
        "trainPredictPlot = numpy.empty_like(dataset)\n",
        "trainPredictPlot[:, :] = numpy.nan\n",
        "trainPredictPlot[0:len(trainPredict), :] = trainPredict\n",
        "# shift test predictions for plotting\n",
        "testPredictPlot = numpy.empty_like(dataset)\n",
        "testPredictPlot[:, :] = numpy.nan\n",
        "testPredictPlot[len(trainPredict)+(look_back*2)+1:len(dataset)-1, :] = testPredict\n",
        "# plot baseline and predictions\n",
        "plt.plot(scaler.inverse_transform(dataset))\n",
        "plt.plot(trainPredictPlot)\n",
        "plt.plot(testPredictPlot)\n",
        "plt.show()"
      ],
      "metadata": {
        "colab": {
          "base_uri": "https://localhost:8080/",
          "height": 430
        },
        "id": "32CvKJLuZ-YH",
        "outputId": "335ea2b0-333f-46b4-a8d5-a5ca2867a251"
      },
      "execution_count": 23,
      "outputs": [
        {
          "output_type": "display_data",
          "data": {
            "text/plain": [
              "<Figure size 640x480 with 1 Axes>"
            ],
            "image/png": "[encoded data removed]"
          },
          "metadata": {}
        }
      ]
    },
    {
      "cell_type": "markdown",
      "source": [
        "# Nouvelle section"
      ],
      "metadata": {
        "id": "sfI7cPHTUpHb"
      }
    }
  ],
  "metadata": {
    "colab": {
      "provenance": [],
      "toc_visible": true
    },
    "kernelspec": {
      "display_name": "Python 3 (ipykernel)",
      "language": "python",
      "name": "python3"
    },
    "language_info": {
      "codemirror_mode": {
        "name": "ipython",
        "version": 3
      },
      "file_extension": ".py",
      "mimetype": "text/x-python",
      "name": "python",
      "nbconvert_exporter": "python",
      "pygments_lexer": "ipython3",
      "version": "3.9.13"
    }
  },
  "nbformat": 4,
  "nbformat_minor": 0
}